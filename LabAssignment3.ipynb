{
 "cells": [
  {
   "cell_type": "markdown",
   "metadata": {},
   "source": [
    "# _NAME-HARSH YADAV_\n",
    "# _STUDENT ID-8977229_"
   ]
  },
  {
   "cell_type": "code",
   "execution_count": 2,
   "metadata": {},
   "outputs": [],
   "source": [
    "import numpy as np"
   ]
  },
  {
   "cell_type": "code",
   "execution_count": 10,
   "metadata": {},
   "outputs": [
    {
     "name": "stdout",
     "output_type": "stream",
     "text": [
      "False\n"
     ]
    }
   ],
   "source": [
    "def no_zeros(arrayInput):\n",
    "\n",
    "    return not np.isin(0, arrayInput).any()\n",
    "\n",
    "input = np.array([1, 2, 3, 4, 5, 6, 0])\n",
    "result = no_zeros(input)\n",
    "print(result)"
   ]
  },
  {
   "cell_type": "code",
   "execution_count": 23,
   "metadata": {},
   "outputs": [
    {
     "name": "stdout",
     "output_type": "stream",
     "text": [
      "[ 0 33 66 99]\n"
     ]
    }
   ],
   "source": [
    "\n",
    "def linearly_distributed(n, min, max):\n",
    "    result=np.array(np.linspace(min, max, n, dtype=int))\n",
    "    return result\n",
    "result = linearly_distributed(4,0,100-1)\n",
    "print(result)"
   ]
  },
  {
   "cell_type": "code",
   "execution_count": 18,
   "metadata": {},
   "outputs": [
    {
     "name": "stdout",
     "output_type": "stream",
     "text": [
      "[[1. 1. 1.]\n",
      " [1. 0. 1.]\n",
      " [1. 1. 1.]]\n"
     ]
    }
   ],
   "source": [
    "def two_dimensions(n):\n",
    "    array = np.zeros((n, n))\n",
    "\n",
    "   \n",
    "    array[0, :] = 1  # top row\n",
    "    array[-1, :] = 1  # bottom row\n",
    "    array[:, 0] = 1  # left column\n",
    "    array[:, -1] = 1  # right column\n",
    "\n",
    "    return array\n",
    "n = 3\n",
    "result = two_dimensions(n)\n",
    "print(result) \n",
    "\n",
    "    "
   ]
  },
  {
   "cell_type": "code",
   "execution_count": 19,
   "metadata": {},
   "outputs": [
    {
     "name": "stdout",
     "output_type": "stream",
     "text": [
      "[0 1 2 8 8 9 8 6 7 4]\n"
     ]
    }
   ],
   "source": [
    "def create_array(n,min,max):\n",
    "    array = np.random.randint(min, max, n)   #random numbers\n",
    "    return array\n",
    "\n",
    "print(create_array(10,0,10))\n"
   ]
  },
  {
   "cell_type": "code",
   "execution_count": 20,
   "metadata": {},
   "outputs": [
    {
     "name": "stdout",
     "output_type": "stream",
     "text": [
      "[[ 1  8  0]\n",
      " [10  3  7]\n",
      " [11  2 12]]\n"
     ]
    }
   ],
   "source": [
    "def random_generation(n,min,max):\n",
    "    \n",
    "    array = np.random.choice(np.arange(min, max+1), size=n*n, replace=False) \n",
    "    array = array.reshape(n, n) # Reshape\n",
    "    return array\n",
    "\n",
    "print(random_generation(3,0,12))"
   ]
  }
 ],
 "metadata": {
  "kernelspec": {
   "display_name": "Python 3",
   "language": "python",
   "name": "python3"
  },
  "language_info": {
   "codemirror_mode": {
    "name": "ipython",
    "version": 3
   },
   "file_extension": ".py",
   "mimetype": "text/x-python",
   "name": "python",
   "nbconvert_exporter": "python",
   "pygments_lexer": "ipython3",
   "version": "3.11.7"
  },
  "orig_nbformat": 4
 },
 "nbformat": 4,
 "nbformat_minor": 2
}
